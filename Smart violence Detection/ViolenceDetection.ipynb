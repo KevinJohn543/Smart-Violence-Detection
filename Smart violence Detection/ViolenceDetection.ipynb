{
 "cells": [
  {
   "cell_type": "code",
   "execution_count": 1,
   "metadata": {},
   "outputs": [],
   "source": [
    "from __future__ import absolute_import\n",
    "from __future__  import division\n",
    "from __future__ import print_function\n",
    "import tensorflow as tf\n",
    "import numpy as np\n",
    "from skimage.io import imread\n",
    "from skimage.transform import resize\n",
    "import cv2\n",
    "import numpy as np\n",
    "import pandas as pd\n",
    "import matplotlib.pyplot as plt"
   ]
  },
  {
   "cell_type": "code",
   "execution_count": 2,
   "metadata": {},
   "outputs": [],
   "source": [
    "import os"
   ]
  },
  {
   "cell_type": "code",
   "execution_count": 3,
   "metadata": {},
   "outputs": [
    {
     "name": "stdout",
     "output_type": "stream",
     "text": [
      "[name: \"/device:CPU:0\"\n",
      "device_type: \"CPU\"\n",
      "memory_limit: 268435456\n",
      "locality {\n",
      "}\n",
      "incarnation: 7701542956657914495\n",
      "xla_global_id: -1\n",
      ", name: \"/device:GPU:0\"\n",
      "device_type: \"GPU\"\n",
      "memory_limit: 4183621632\n",
      "locality {\n",
      "  bus_id: 1\n",
      "  links {\n",
      "  }\n",
      "}\n",
      "incarnation: 939811967013865104\n",
      "physical_device_desc: \"device: 0, name: NVIDIA GeForce GTX 1660 Ti, pci bus id: 0000:01:00.0, compute capability: 7.5\"\n",
      "xla_global_id: 416903419\n",
      "]\n"
     ]
    },
    {
     "name": "stderr",
     "output_type": "stream",
     "text": [
      "c:\\users\\admin\\appdata\\local\\programs\\python\\python38\\lib\\site-packages\\keras\\optimizers\\optimizer_v2\\adam.py:114: UserWarning: The `lr` argument is deprecated, use `learning_rate` instead.\n",
      "  super().__init__(name, **kwargs)\n"
     ]
    }
   ],
   "source": [
    "from localfiletesting import *"
   ]
  },
  {
   "cell_type": "code",
   "execution_count": null,
   "metadata": {},
   "outputs": [],
   "source": []
  },
  {
   "cell_type": "code",
   "execution_count": 4,
   "metadata": {},
   "outputs": [],
   "source": [
    "model = Det_Model(tf,wight='modelweight.hdfs')"
   ]
  },
  {
   "cell_type": "code",
   "execution_count": 5,
   "metadata": {},
   "outputs": [
    {
     "name": "stdout",
     "output_type": "stream",
     "text": [
      "1/1 [==============================] - 15s 15s/step\n",
      "1/1 [==============================] - 0s 78ms/step\n",
      "1/1 [==============================] - 0s 47ms/step\n",
      "1/1 [==============================] - 0s 47ms/step\n",
      "1/1 [==============================] - 0s 47ms/step\n",
      "1/1 [==============================] - 0s 47ms/step\n",
      "1/1 [==============================] - 0s 47ms/step\n",
      "1/1 [==============================] - 0s 47ms/step\n",
      "1/1 [==============================] - 0s 47ms/step\n",
      "1/1 [==============================] - 0s 31ms/step\n",
      "1/1 [==============================] - 0s 47ms/step\n",
      "1/1 [==============================] - 0s 47ms/step\n",
      "1/1 [==============================] - 0s 31ms/step\n",
      "1/1 [==============================] - 0s 47ms/step\n",
      "1/1 [==============================] - 0s 63ms/step\n",
      "1/1 [==============================] - 0s 47ms/step\n",
      "1/1 [==============================] - 0s 47ms/step\n",
      "1/1 [==============================] - 0s 47ms/step\n",
      "1/1 [==============================] - 0s 47ms/step\n",
      "1/1 [==============================] - 0s 47ms/step\n",
      "1/1 [==============================] - 0s 47ms/step\n",
      "1/1 [==============================] - 0s 31ms/step\n",
      "Violence detected here ...\n",
      "1/1 [==============================] - 0s 31ms/step\n",
      "1/1 [==============================] - 0s 47ms/step\n",
      "Violence detected here ...\n",
      "1/1 [==============================] - 0s 47ms/step\n",
      "Violence detected here ...\n",
      "1/1 [==============================] - 0s 47ms/step\n",
      "1/1 [==============================] - 0s 47ms/step\n",
      "1/1 [==============================] - 0s 47ms/step\n",
      "1/1 [==============================] - 0s 47ms/step\n",
      "Violence detected here ...\n",
      "1/1 [==============================] - 0s 47ms/step\n",
      "Violence detected here ...\n",
      "1/1 [==============================] - 0s 47ms/step\n",
      "1/1 [==============================] - 0s 47ms/step\n",
      "Violence detected here ...\n",
      "1/1 [==============================] - 0s 31ms/step\n",
      "1/1 [==============================] - 0s 47ms/step\n",
      "1/1 [==============================] - 0s 47ms/step\n",
      "1/1 [==============================] - 0s 47ms/step\n",
      "1/1 [==============================] - 0s 47ms/step\n",
      "1/1 [==============================] - 0s 47ms/step\n",
      "1/1 [==============================] - 0s 31ms/step\n",
      "1/1 [==============================] - 0s 47ms/step\n"
     ]
    }
   ],
   "source": [
    "from tkinter import filedialog as fd\n",
    "import tkinter\n",
    "root = tkinter.Tk()\n",
    "root.withdraw()\n",
    "V_test = fd.askopenfilename()\n",
    "cap = cv2.VideoCapture(V_test)\n",
    "i = 0\n",
    "frames = np.zeros((30, 160, 160, 3), dtype=float)\n",
    "old = []\n",
    "j = 0\n",
    "truecount = 0\n",
    "imagesaved=0\n",
    "filename = 'savedImage.jpg'\n",
    "ysdatav2 = np.zeros((1, 30, 160, 160, 3), dtype=float)\n",
    "prediction = pred_fight(model,ysdatav2,acuracy=0.96)\n",
    "while(True):\n",
    "    ret, frame = cap.read()\n",
    "  \n",
    "    # describe the type of font to be used \n",
    "    font = cv2.FONT_HERSHEY_SIMPLEX\n",
    "    #display the text on every frame\n",
    "    text_color = (0, 255, 0) #Green\n",
    "    label = prediction[0]\n",
    "    if label: # Violence\n",
    "        text_color = (0, 0, 255) # red\n",
    "        truecount = truecount + 1\n",
    "    else:# No Violence\n",
    "        text_color = (0, 255, 0)\n",
    "    text = \"Violence: {}\".format(label)\n",
    "    cv2.putText(frame, text, (35, 50), font,1.25, text_color, 3)\n",
    "    if i > 29:\n",
    "        ysdatav2 = np.zeros((1, 30, 160, 160, 3), dtype=float)\n",
    "        ysdatav2[0][:][:] = frames\n",
    "        prediction = pred_fight(model,ysdatav2,acuracy=0.96)\n",
    "        if prediction[0] == True:\n",
    "            cv2.imshow('video', frame)\n",
    "            print('Violence detected here ...')\n",
    "            fourcc = cv2.VideoWriter_fourcc(*'XVID')\n",
    "            vio = cv2.VideoWriter(\"./videos/output-\"+str(j)+\".avi\", fourcc, 10.0, (fwidth,fheight))\n",
    "            #vio = cv2.VideoWrite\"./videos/output-\"+str(j)+\".mp4\", cv2.VideoWriter_fourcc(*'mp4v'), 10, (300, 400))\n",
    "            for frameinss in old:\n",
    "                vio.write(frameinss)\n",
    "            vio.release()\n",
    "        i = 0\n",
    "        j += 1\n",
    "        frames = np.zeros((30, 160, 160, 3), dtype=float)\n",
    "        old = []\n",
    "    else:\n",
    "        try:\n",
    "            frm = resize(frame,(160,160,3))\n",
    "            old.append(frame)\n",
    "            fshape = frame.shape\n",
    "            fheight = fshape[0]\n",
    "            fwidth = fshape[1]\n",
    "            frm = np.expand_dims(frm,axis=0)\n",
    "            if(np.max(frm)>1):\n",
    "                frm = frm/255\n",
    "            frames[i][:] = frm\n",
    "        \n",
    "            i+=1\n",
    "            cv2.imshow('video', frame)\n",
    "        except:\n",
    "            pass\n",
    "            if cv2.waitKey(1):\n",
    "                break\n",
    "        \n",
    "    if(truecount == 40):\n",
    "        if(imagesaved == 0):\n",
    "            if(label):\n",
    "                cv2.imwrite(filename,frame)\n",
    "                imagesaved = 1 \n",
    "    if cv2.waitKey(1) & 0xFF == ord('q'):\n",
    "        break\n",
    "\n",
    "cap.release()\n",
    "\n",
    "cv2.destroyAllWindows()\n"
   ]
  },
  {
   "cell_type": "code",
   "execution_count": null,
   "metadata": {},
   "outputs": [],
   "source": []
  },
  {
   "cell_type": "code",
   "execution_count": null,
   "metadata": {},
   "outputs": [],
   "source": []
  },
  {
   "cell_type": "code",
   "execution_count": null,
   "metadata": {},
   "outputs": [],
   "source": []
  },
  {
   "cell_type": "code",
   "execution_count": null,
   "metadata": {},
   "outputs": [],
   "source": []
  },
  {
   "cell_type": "code",
   "execution_count": null,
   "metadata": {},
   "outputs": [],
   "source": []
  },
  {
   "cell_type": "code",
   "execution_count": null,
   "metadata": {},
   "outputs": [],
   "source": []
  },
  {
   "cell_type": "code",
   "execution_count": null,
   "metadata": {},
   "outputs": [],
   "source": []
  },
  {
   "cell_type": "code",
   "execution_count": null,
   "metadata": {},
   "outputs": [],
   "source": []
  },
  {
   "cell_type": "code",
   "execution_count": null,
   "metadata": {},
   "outputs": [],
   "source": []
  },
  {
   "cell_type": "code",
   "execution_count": null,
   "metadata": {},
   "outputs": [],
   "source": []
  },
  {
   "cell_type": "code",
   "execution_count": null,
   "metadata": {},
   "outputs": [],
   "source": []
  },
  {
   "cell_type": "code",
   "execution_count": 7,
   "metadata": {},
   "outputs": [],
   "source": []
  },
  {
   "cell_type": "code",
   "execution_count": 8,
   "metadata": {},
   "outputs": [],
   "source": []
  },
  {
   "cell_type": "code",
   "execution_count": null,
   "metadata": {},
   "outputs": [],
   "source": []
  },
  {
   "cell_type": "code",
   "execution_count": null,
   "metadata": {},
   "outputs": [],
   "source": []
  },
  {
   "cell_type": "code",
   "execution_count": null,
   "metadata": {},
   "outputs": [],
   "source": []
  },
  {
   "cell_type": "code",
   "execution_count": null,
   "metadata": {},
   "outputs": [],
   "source": []
  },
  {
   "cell_type": "code",
   "execution_count": null,
   "metadata": {},
   "outputs": [],
   "source": []
  },
  {
   "cell_type": "code",
   "execution_count": null,
   "metadata": {},
   "outputs": [],
   "source": []
  },
  {
   "cell_type": "code",
   "execution_count": null,
   "metadata": {},
   "outputs": [],
   "source": []
  },
  {
   "cell_type": "code",
   "execution_count": null,
   "metadata": {},
   "outputs": [],
   "source": []
  },
  {
   "cell_type": "code",
   "execution_count": null,
   "metadata": {},
   "outputs": [],
   "source": []
  }
 ],
 "metadata": {
  "kernelspec": {
   "display_name": "Python 3 (ipykernel)",
   "language": "python",
   "name": "python3"
  },
  "language_info": {
   "codemirror_mode": {
    "name": "ipython",
    "version": 3
   },
   "file_extension": ".py",
   "mimetype": "text/x-python",
   "name": "python",
   "nbconvert_exporter": "python",
   "pygments_lexer": "ipython3",
   "version": "3.8.0"
  }
 },
 "nbformat": 4,
 "nbformat_minor": 2
}
